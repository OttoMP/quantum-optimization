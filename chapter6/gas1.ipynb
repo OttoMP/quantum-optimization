{
 "cells": [
  {
   "cell_type": "code",
   "execution_count": 9,
   "id": "0eff349f-4249-4065-86dd-2afdd31cc8a6",
   "metadata": {},
   "outputs": [],
   "source": [
    "from qiskit_algorithms import NumPyMinimumEigensolver\n",
    "from qiskit.primitives import Sampler"
   ]
  },
  {
   "cell_type": "code",
   "execution_count": 10,
   "id": "597bcaa6",
   "metadata": {},
   "outputs": [],
   "source": [
    "#qiskit.__qiskit_version__"
   ]
  },
  {
   "cell_type": "code",
   "execution_count": 11,
   "id": "e885bda1",
   "metadata": {},
   "outputs": [],
   "source": [
    "from qiskit_algorithms import NumPyMinimumEigensolver\n",
    "from qiskit.primitives import Sampler\n",
    "from qiskit_optimization.algorithms import GroverOptimizer, MinimumEigenOptimizer\n",
    "from qiskit_optimization.translators import from_docplex_mp\n",
    "from docplex.mp.model import Model"
   ]
  },
  {
   "cell_type": "code",
   "execution_count": 12,
   "id": "1ffb6097",
   "metadata": {},
   "outputs": [
    {
     "name": "stdout",
     "output_type": "stream",
     "text": [
      "Problem name: docplex_model2\n",
      "\n",
      "Minimize\n",
      "  -2*x0*x2 - x1*x2 - x0 + 2*x1 - 3*x2\n",
      "\n",
      "Subject to\n",
      "  No constraints\n",
      "\n",
      "  Binary variables (3)\n",
      "    x0 x1 x2\n",
      "\n"
     ]
    }
   ],
   "source": [
    "model = Model()\n",
    "x0 = model.binary_var(name=\"x0\")\n",
    "x1 = model.binary_var(name=\"x1\")\n",
    "x2 = model.binary_var(name=\"x2\")\n",
    "model.minimize(-x0 + 2 * x1 - 3 * x2 - 2 * x0 * x2 - 1 * x1 * x2)\n",
    "qp = from_docplex_mp(model)\n",
    "print(qp.prettyprint())\n"
   ]
  },
  {
   "cell_type": "code",
   "execution_count": 13,
   "id": "7d455f30",
   "metadata": {},
   "outputs": [
    {
     "name": "stdout",
     "output_type": "stream",
     "text": [
      "objective function value: -6.0\n",
      "variable values: x0=1.0, x1=0.0, x2=1.0\n",
      "status: SUCCESS\n"
     ]
    }
   ],
   "source": [
    "grover_optimizer = GroverOptimizer(6, num_iterations=10, sampler=Sampler())\n",
    "results = grover_optimizer.solve(qp)\n",
    "print(results.prettyprint())"
   ]
  },
  {
   "cell_type": "code",
   "execution_count": null,
   "id": "17586ff7",
   "metadata": {},
   "outputs": [],
   "source": []
  },
  {
   "cell_type": "code",
   "execution_count": 14,
   "id": "85fd50c0",
   "metadata": {},
   "outputs": [
    {
     "name": "stdout",
     "output_type": "stream",
     "text": [
      "objective function value: -6.0\n",
      "variable values: x0=1.0, x1=0.0, x2=1.0\n",
      "status: SUCCESS\n"
     ]
    }
   ],
   "source": [
    "exact_solver = MinimumEigenOptimizer(NumPyMinimumEigensolver())\n",
    "exact_result = exact_solver.solve(qp)\n",
    "print(exact_result.prettyprint())\n",
    "\n"
   ]
  },
  {
   "cell_type": "code",
   "execution_count": null,
   "id": "63e15a12",
   "metadata": {},
   "outputs": [],
   "source": [
    "\n"
   ]
  },
  {
   "cell_type": "code",
   "execution_count": null,
   "id": "6297a790",
   "metadata": {},
   "outputs": [],
   "source": []
  }
 ],
 "metadata": {
  "kernelspec": {
   "display_name": "Python 3 (ipykernel)",
   "language": "python",
   "name": "python3"
  },
  "language_info": {
   "codemirror_mode": {
    "name": "ipython",
    "version": 3
   },
   "file_extension": ".py",
   "mimetype": "text/x-python",
   "name": "python",
   "nbconvert_exporter": "python",
   "pygments_lexer": "ipython3",
   "version": "3.9.12"
  }
 },
 "nbformat": 4,
 "nbformat_minor": 5
}
