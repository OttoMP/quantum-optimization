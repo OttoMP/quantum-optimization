{
 "cells": [
  {
   "cell_type": "markdown",
   "id": "67eaba7c-5736-4b20-beb5-292ffed79dc2",
   "metadata": {},
   "source": [
    "# Chapter 3: Working with Quadratic Unconstrained Binary Optimization Problems"
   ]
  },
  {
   "cell_type": "code",
   "execution_count": 18,
   "id": "e9a2fefd-a926-4c2c-9afb-b2b0d5ea5984",
   "metadata": {},
   "outputs": [],
   "source": [
    "from qiskit import *\n",
    "from qiskit.quantum_info import Statevector, Operator, Pauli\n",
    "from qiskit.opflow.primitive_ops import PauliOp\n",
    "from qiskit.opflow import I, Z\n",
    "import numpy as np"
   ]
  },
  {
   "cell_type": "markdown",
   "id": "45bb929e-066b-435e-9e58-ae564af17929",
   "metadata": {},
   "source": [
    "## Computing expectation values with Qiskit"
   ]
  },
  {
   "cell_type": "markdown",
   "id": "372b1863-8baf-4f38-8db6-58ffd6746cdb",
   "metadata": {},
   "source": [
    "Initial codes defining states"
   ]
  },
  {
   "cell_type": "code",
   "execution_count": 19,
   "id": "27d73aba-1277-4faa-8e1f-710078f45c52",
   "metadata": {},
   "outputs": [
    {
     "name": "stdout",
     "output_type": "stream",
     "text": [
      "zero is Statevector([1.+0.j, 0.+0.j],\n",
      "            dims=(2,))\n",
      "one is Statevector([0.+0.j, 1.+0.j],\n",
      "            dims=(2,))\n"
     ]
    }
   ],
   "source": [
    "zero = Statevector([1,0])\n",
    "print('zero is', zero)\n",
    "\n",
    "one = Statevector([0,1])\n",
    "print('one is',one)"
   ]
  },
  {
   "cell_type": "code",
   "execution_count": 20,
   "id": "d8ce6f36-1e25-4817-93ae-1280046e4aec",
   "metadata": {},
   "outputs": [
    {
     "name": "stdout",
     "output_type": "stream",
     "text": [
      "zero is Statevector([1.+0.j, 0.+0.j],\n",
      "            dims=(2,))\n",
      "one is Statevector([0.+0.j, 1.+0.j],\n",
      "            dims=(2,))\n"
     ]
    }
   ],
   "source": [
    "zero = Statevector.from_int(0, dims = 2)\n",
    "one = Statevector.from_int(1, dims = 2)\n",
    "\n",
    "print('zero is',zero)\n",
    "print('one is',one)"
   ]
  },
  {
   "cell_type": "markdown",
   "id": "f8c5c393-de4b-4eb0-8a96-6a5d9add73a7",
   "metadata": {},
   "source": [
    "We can use `tensor` to construct states with more qubits. Let's see the state $\\vert 100 \\rangle$, witch correspondes to 4 in decimal basis:"
   ]
  },
  {
   "cell_type": "code",
   "execution_count": 21,
   "id": "ba1be2ea-9bb4-48ff-a9f5-9f66dea065b0",
   "metadata": {},
   "outputs": [
    {
     "name": "stdout",
     "output_type": "stream",
     "text": [
      "psi is Statevector([0.+0.j, 0.+0.j, 0.+0.j, 0.+0.j, 1.+0.j, 0.+0.j, 0.+0.j,\n",
      "             0.+0.j],\n",
      "            dims=(2, 2, 2))\n"
     ]
    }
   ],
   "source": [
    "psi = one.tensor(zero.tensor(zero))\n",
    "print('psi is',psi)"
   ]
  },
  {
   "cell_type": "markdown",
   "id": "22cde28b-0819-43a8-87ec-36704dc03bea",
   "metadata": {},
   "source": [
    "To write the states in LaTex representation, we can use `.draw('latex')`:"
   ]
  },
  {
   "cell_type": "code",
   "execution_count": 22,
   "id": "5f461f00-a9c2-4939-9718-27091f3ffb98",
   "metadata": {},
   "outputs": [
    {
     "data": {
      "text/latex": [
       "$$ |100\\rangle$$"
      ],
      "text/plain": [
       "<IPython.core.display.Latex object>"
      ]
     },
     "execution_count": 22,
     "metadata": {},
     "output_type": "execute_result"
    }
   ],
   "source": [
    "psi = one^zero^zero\n",
    "psi.draw('latex')"
   ]
  },
  {
   "cell_type": "markdown",
   "id": "8f4322de-decc-4b70-a311-5378782e8c1a",
   "metadata": {},
   "source": [
    "We can write $ \\vert \\psi \\rangle$ in a more pratical way using:"
   ]
  },
  {
   "cell_type": "code",
   "execution_count": 23,
   "id": "de8de782-3957-419b-9601-82f821cc6398",
   "metadata": {},
   "outputs": [
    {
     "data": {
      "text/latex": [
       "$$ |100\\rangle$$"
      ],
      "text/plain": [
       "<IPython.core.display.Latex object>"
      ]
     },
     "execution_count": 23,
     "metadata": {},
     "output_type": "execute_result"
    }
   ],
   "source": [
    "psi = Statevector.from_int(4, dims = 2**3)\n",
    "psi.draw('latex')"
   ]
  },
  {
   "cell_type": "markdown",
   "id": "cec8a4ca-bf6a-44e5-b396-7f3b473081f8",
   "metadata": {},
   "source": [
    "We can writte states in superposition as:"
   ]
  },
  {
   "cell_type": "code",
   "execution_count": 24,
   "id": "2fbcd76e-3f95-4a00-8849-8b22790d966e",
   "metadata": {},
   "outputs": [
    {
     "name": "stdout",
     "output_type": "stream",
     "text": [
      "Statevector([0.70710678+0.j, 0.        +0.j, 0.        +0.j,\n",
      "             0.        +0.j, 0.        +0.j, 0.        +0.j,\n",
      "             0.        +0.j, 0.70710678+0.j],\n",
      "            dims=(2, 2, 2))\n"
     ]
    }
   ],
   "source": [
    "ghz = 1/np.sqrt(2)*(zero^zero^zero) + 1/np.sqrt(2)*(one^one^one)\n",
    "ghz\n",
    "\n",
    "#It seems the .draw('latex') does not give us the right representation of this state"
   ]
  },
  {
   "cell_type": "markdown",
   "id": "2c680e0c-39eb-4be5-81b0-e2c1814ad031",
   "metadata": {},
   "source": [
    "Now we will see how to represent Operators in qiskit. Furthermore, we will see how to represent the conection in a graph using Pauli Matrices"
   ]
  },
  {
   "cell_type": "code",
   "execution_count": 25,
   "id": "ef60cba5-f8c0-4ce6-9632-426186607cdf",
   "metadata": {},
   "outputs": [
    {
     "name": "stdout",
     "output_type": "stream",
     "text": [
      "Z0Z1 is ZZI\n",
      "And its matrix is\n",
      "[[ 1.+0.j  0.+0.j  0.+0.j  0.+0.j  0.+0.j  0.+0.j  0.+0.j  0.+0.j]\n",
      " [ 0.+0.j  1.+0.j  0.+0.j  0.+0.j  0.+0.j  0.+0.j  0.+0.j  0.+0.j]\n",
      " [ 0.+0.j  0.+0.j -1.+0.j  0.+0.j  0.+0.j  0.+0.j  0.+0.j  0.+0.j]\n",
      " [ 0.+0.j  0.+0.j  0.+0.j -1.+0.j  0.+0.j  0.+0.j  0.+0.j  0.+0.j]\n",
      " [ 0.+0.j  0.+0.j  0.+0.j  0.+0.j -1.+0.j  0.+0.j  0.+0.j  0.+0.j]\n",
      " [ 0.+0.j  0.+0.j  0.+0.j  0.+0.j  0.+0.j -1.+0.j  0.+0.j  0.+0.j]\n",
      " [ 0.+0.j  0.+0.j  0.+0.j  0.+0.j  0.+0.j  0.+0.j  1.+0.j  0.+0.j]\n",
      " [ 0.+0.j  0.+0.j  0.+0.j  0.+0.j  0.+0.j  0.+0.j  0.+0.j  1.+0.j]]\n"
     ]
    }
   ],
   "source": [
    "Z0Z1 = Pauli(\"ZZI\")\n",
    "print(\"Z0Z1 is\",Z0Z1)\n",
    "print(\"And its matrix is\")\n",
    "print(Z0Z1.to_matrix())"
   ]
  },
  {
   "cell_type": "code",
   "execution_count": 26,
   "id": "b4f17c10-d483-4889-b1a1-9f0357ad2477",
   "metadata": {},
   "outputs": [
    {
     "name": "stdout",
     "output_type": "stream",
     "text": [
      "The sparse representation of Z0Z1 is\n",
      "  (0, 0)\t(1+0j)\n",
      "  (1, 1)\t(1+0j)\n",
      "  (2, 2)\t(-1+0j)\n",
      "  (3, 3)\t(-1+0j)\n",
      "  (4, 4)\t(-1+0j)\n",
      "  (5, 5)\t(-1+0j)\n",
      "  (6, 6)\t(1+0j)\n",
      "  (7, 7)\t(1+0j)\n"
     ]
    }
   ],
   "source": [
    "print(\"The sparse representation of Z0Z1 is\")\n",
    "print(Z0Z1.to_matrix(sparse=True))"
   ]
  },
  {
   "cell_type": "markdown",
   "id": "bfedda25-0a2f-42fd-b95e-6ef0d3c158d7",
   "metadata": {},
   "source": [
    "We can also creat the same operator using a diferente comand. When constructing a Pauli object, we can also specify which positions of the tensor product are Z matrices, passing them as a vector of ones (indicating the presence of\n",
    "Z) and zeroes (indicating the absence of Z or, equivalently, the presence of I). Since the construction method is more general and it can be used to create other tensor products, we would need to specify another vector with positions of X matrices, which we will set to all zeroes for the moment.\n"
   ]
  },
  {
   "cell_type": "code",
   "execution_count": 27,
   "id": "b520dbff-be9f-4327-b6d4-2f8f67dcc33f",
   "metadata": {},
   "outputs": [
    {
     "name": "stdout",
     "output_type": "stream",
     "text": [
      "[[ 1.+0.j  0.+0.j  0.+0.j  0.+0.j  0.+0.j  0.+0.j  0.+0.j  0.+0.j]\n",
      " [ 0.+0.j  1.+0.j  0.+0.j  0.+0.j  0.+0.j  0.+0.j  0.+0.j  0.+0.j]\n",
      " [ 0.+0.j  0.+0.j -1.+0.j  0.+0.j  0.+0.j  0.+0.j  0.+0.j  0.+0.j]\n",
      " [ 0.+0.j  0.+0.j  0.+0.j -1.+0.j  0.+0.j  0.+0.j  0.+0.j  0.+0.j]\n",
      " [ 0.+0.j  0.+0.j  0.+0.j  0.+0.j -1.+0.j  0.+0.j  0.+0.j  0.+0.j]\n",
      " [ 0.+0.j  0.+0.j  0.+0.j  0.+0.j  0.+0.j -1.+0.j  0.+0.j  0.+0.j]\n",
      " [ 0.+0.j  0.+0.j  0.+0.j  0.+0.j  0.+0.j  0.+0.j  1.+0.j  0.+0.j]\n",
      " [ 0.+0.j  0.+0.j  0.+0.j  0.+0.j  0.+0.j  0.+0.j  0.+0.j  1.+0.j]]\n"
     ]
    }
   ],
   "source": [
    "Z0Z1 = Pauli(([0,1,1],[0,0,0]))\n",
    "print(Z0Z1.to_matrix())"
   ]
  },
  {
   "cell_type": "markdown",
   "id": "508b22d0-ebbe-42e7-a6f5-3977a749f18a",
   "metadata": {},
   "source": [
    "Let's now solve the max cut problem defining the Hamiltonian as Pauli Operators."
   ]
  },
  {
   "attachments": {
    "7f3a6ba2-0b28-4f88-a8b2-41db14c3a786.png": {
     "image/png": "[encoded data removed]"
    }
   },
   "cell_type": "markdown",
   "id": "1cda5ed6-42c2-4cb1-be25-b7614eb671a7",
   "metadata": {},
   "source": [
    "![image.png](attachment:7f3a6ba2-0b28-4f88-a8b2-41db14c3a786.png)"
   ]
  },
  {
   "cell_type": "code",
   "execution_count": 28,
   "id": "ca7d96e1-016f-4d27-894d-1be0a31c5731",
   "metadata": {},
   "outputs": [
    {
     "name": "stdout",
     "output_type": "stream",
     "text": [
      "H_cut is\n",
      "1.0 * IZZ\n",
      "+ 1.0 * ZIZ\n",
      "The sparse representation of H_cut is\n",
      "  (0, 0)\t(2+0j)\n",
      "  (1, 1)\t(-2+0j)\n",
      "  (6, 6)\t(-2+0j)\n",
      "  (7, 7)\t(2+0j)\n"
     ]
    }
   ],
   "source": [
    "H_cut = PauliOp(Pauli(\"IZZ\")) + PauliOp(Pauli(\"ZIZ\"))\n",
    "print(\"H_cut is\")\n",
    "print(H_cut)\n",
    "print(\"The sparse representation of H_cut is\")\n",
    "print(H_cut.to_spmatrix())"
   ]
  },
  {
   "cell_type": "markdown",
   "id": "d6a2ba68-91e0-45ff-b019-01afda91b73b",
   "metadata": {},
   "source": [
    "A more compact way of obtaining the same Hamiltonian is:"
   ]
  },
  {
   "cell_type": "code",
   "execution_count": 29,
   "id": "0dba940d-2435-4bc9-be9f-4faf1a3f6297",
   "metadata": {},
   "outputs": [
    {
     "name": "stdout",
     "output_type": "stream",
     "text": [
      "H_cut is\n",
      "1.0 * ZZI\n",
      "+ 1.0 * ZIZ\n"
     ]
    }
   ],
   "source": [
    "from qiskit.opflow import I, Z\n",
    "H_cut = (Z^Z^I) + (Z^I^Z)\n",
    "print(\"H_cut is\")\n",
    "print(H_cut)"
   ]
  },
  {
   "cell_type": "markdown",
   "id": "db96c61d-6dbe-4649-ad5f-25fb9eebfa45",
   "metadata": {},
   "source": [
    "Of course, more complicated Hamiltonians, even including coefcients, can be constructed. \n",
    "For exemple, $H = -1/2Z_0Z1 + 2Z_0Z_2 - Z_1Z_2 +Z_1 - 5Z_1$"
   ]
  },
  {
   "cell_type": "code",
   "execution_count": 30,
   "id": "9c157895-1ff3-40cc-9f77-0317ce08cf58",
   "metadata": {},
   "outputs": [
    {
     "data": {
      "text/plain": [
       "PauliSumOp(SparsePauliOp(['ZZI', 'ZIZ', 'IZZ', 'IZI', 'IIZ'],\n",
       "              coeffs=[-0.5+0.j,  2. +0.j, -1. +0.j,  1. +0.j, -5. +0.j]), coeff=1.0)"
      ]
     },
     "execution_count": 30,
     "metadata": {},
     "output_type": "execute_result"
    }
   ],
   "source": [
    "H_ising = -0.5*(Z^Z^I) + 2*(Z^I^Z) -(I^Z^Z) + (I^Z^I) -5*(I^I^Z)\n",
    "H_ising"
   ]
  },
  {
   "cell_type": "markdown",
   "id": "4ed307cb-ab2f-4ac6-bab5-77c08d621221",
   "metadata": {},
   "source": [
    "Now we can compute the expectation value of H_cut as difined $\\langle \\psi \\vert H\\_cut \\vert \\psi \\rangle$"
   ]
  },
  {
   "cell_type": "code",
   "execution_count": 31,
   "id": "0c7cfb2f-6a86-43a5-9bb1-103bf48a2361",
   "metadata": {},
   "outputs": [
    {
     "name": "stdout",
     "output_type": "stream",
     "text": [
      "The expectation value is (-2+0j)\n"
     ]
    }
   ],
   "source": [
    "print(\"The expectation value is\", psi.expectation_value(H_cut))"
   ]
  },
  {
   "attachments": {
    "9cb2da1d-4d38-454b-9ad2-eb50060fd2f6.png": {
     "image/png": "[encoded data removed]"
    }
   },
   "cell_type": "markdown",
   "id": "7d818825-10ae-497f-9f25-cca6c0447960",
   "metadata": {},
   "source": [
    "![image.png](attachment:9cb2da1d-4d38-454b-9ad2-eb50060fd2f6.png)"
   ]
  },
  {
   "cell_type": "code",
   "execution_count": 32,
   "id": "8c75b5db-7389-4fdd-b4f4-439feb219a7c",
   "metadata": {},
   "outputs": [
    {
     "name": "stdout",
     "output_type": "stream",
     "text": [
      "The expected value of state |000> is 2.0\n",
      "The expected value of state |001> is 0.0\n",
      "The expected value of state |010> is 0.0\n",
      "The expected value of state |011> is -2.0\n",
      "The expected value of state |100> is -2.0\n",
      "The expected value of state |101> is 0.0\n",
      "The expected value of state |110> is 0.0\n",
      "The expected value of state |111> is 2.0\n",
      " \n",
      " Therefore, the optimal cut is |011>\n",
      " \n",
      " Therefore, the optimal cut is |100>\n"
     ]
    }
   ],
   "source": [
    "# Número de qubits\n",
    "num_qubits = 3\n",
    "H = (Z^Z^I) + (Z^I^Z)\n",
    "expected_value = []\n",
    "binary_str = []\n",
    "\n",
    "for i in range(2**num_qubits):\n",
    "    #Decimal to Binary\n",
    "    binary_str.append(bin(i)[2:].zfill(num_qubits))  \n",
    "    state = Statevector.from_int(i, dims = 2**num_qubits)\n",
    "    #Computing the expected value using the formal definition\n",
    "    expected_value.append(state.inner(state.evolve(H)))\n",
    "    print(\"The expected value of state |{}> is\".format(binary_str[i]), (expected_value[i]).real)\n",
    "    \n",
    "#Posições com o menor valor\n",
    "max_cut = np.where(expected_value == np.min(expected_value))[0]\n",
    "\n",
    "for i in range(len(max_cut)):\n",
    "    print(' \\n Therefore, the optimal cut is |{}>'.format(binary_str[max_cut[i]]))"
   ]
  },
  {
   "cell_type": "code",
   "execution_count": null,
   "id": "3f4690a6-8745-492e-a7da-f2500fe6a3c9",
   "metadata": {},
   "outputs": [],
   "source": []
  }
 ],
 "metadata": {
  "kernelspec": {
   "display_name": "Python 3 (ipykernel)",
   "language": "python",
   "name": "python3"
  },
  "language_info": {
   "codemirror_mode": {
    "name": "ipython",
    "version": 3
   },
   "file_extension": ".py",
   "mimetype": "text/x-python",
   "name": "python",
   "nbconvert_exporter": "python",
   "pygments_lexer": "ipython3",
   "version": "3.9.7"
  }
 },
 "nbformat": 4,
 "nbformat_minor": 5
}
