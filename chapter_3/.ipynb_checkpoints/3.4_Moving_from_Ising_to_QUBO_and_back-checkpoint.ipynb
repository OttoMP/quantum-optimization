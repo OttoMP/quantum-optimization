{
 "cells": [
  {
   "cell_type": "markdown",
   "id": "ff77da03-3cdd-4896-8ff4-bad5b94af898",
   "metadata": {},
   "source": [
    "# Chapter 3: Working with# Chapter 3: Working with Quadratic Unconstrained Binary Optimization Problems Quadratic Unconstrained Binary Optimization Problems"
   ]
  },
  {
   "cell_type": "code",
   "execution_count": 28,
   "id": "82a41067-dac8-48be-b0cf-68b8296b49d2",
   "metadata": {},
   "outputs": [],
   "source": [
    "from qiskit import *\n",
    "from qiskit.quantum_info import Statevector, Operator, Pauli\n",
    "from qiskit.opflow.primitive_ops import PauliOp\n",
    "from qiskit_optimization import QuadraticProgram\n",
    "from qiskit.opflow import I, Z\n",
    "import numpy as np"
   ]
  },
  {
   "cell_type": "markdown",
   "id": "98741554-b068-46b6-98f9-3a946d30b73a",
   "metadata": {},
   "source": [
    "##   Moving from Ising to QUBO and back"
   ]
  },
  {
   "cell_type": "markdown",
   "id": "44f20b02-4f54-49f2-a1c4-d7ba0356d20c",
   "metadata": {},
   "source": [
    "Suposed we have the problem\n",
    "\n",
    "\\begin{equation}\n",
    "    Minimize \\ \\ \\ \\ x_0^2 + 2x_0x_1 - 3\n",
    "\\end{equation}\n",
    "\n",
    "In Ising formulation\n",
    "\n",
    "\\begin{equation}\n",
    "    Minimize \\ \\ \\ \\ \\frac{z_0z_1}{2} - z_0 -\\frac{z_1}{2} -2\n",
    "\\end{equation}\n",
    "\n",
    "\n",
    "Notice that we can simply drop the independent term -2.\n",
    "\n",
    "Let's compute"
   ]
  },
  {
   "cell_type": "code",
   "execution_count": 29,
   "id": "35ff5abe-2e43-442e-8933-95f61f7c5adf",
   "metadata": {},
   "outputs": [
    {
     "data": {
      "text/plain": [
       "PauliSumOp(SparsePauliOp(['ZZ', 'IZ', 'ZI'],\n",
       "              coeffs=[ 0.5+0.j, -1. +0.j, -0.5+0.j]), coeff=1.0)"
      ]
     },
     "execution_count": 29,
     "metadata": {},
     "output_type": "execute_result"
    }
   ],
   "source": [
    "H = 0.5*(Z^Z) - (I^Z) -0.5*(Z^I)\n",
    "H"
   ]
  },
  {
   "cell_type": "code",
   "execution_count": 30,
   "id": "2bee8040-4a6c-412a-9466-1867ca2d581c",
   "metadata": {},
   "outputs": [
    {
     "name": "stdout",
     "output_type": "stream",
     "text": [
      "The expected value of state |00> is -1.0\n",
      "The expected value of state |01> is 0.0\n",
      "The expected value of state |10> is -1.0\n",
      "The expected value of state |11> is 2.0\n",
      " \n",
      " Therefore, the optimal cut is |00>\n",
      " \n",
      " Therefore, the optimal cut is |10>\n"
     ]
    }
   ],
   "source": [
    "# Número de qubits\n",
    "num_qubits = 2\n",
    "expected_value = []\n",
    "binary_str = []\n",
    "\n",
    "for i in range(2**num_qubits):\n",
    "    #Decimal to Binary\n",
    "    binary_str.append(bin(i)[2:].zfill(num_qubits))  \n",
    "    state = Statevector.from_int(i, dims = 2**num_qubits)\n",
    "    #Computing the expected value using the formal definition\n",
    "    expected_value.append(state.inner(state.evolve(H)))\n",
    "    print(\"The expected value of state |{}> is\".format(binary_str[i]), (expected_value[i]).real)\n",
    "    \n",
    "#Posições com o menor valor\n",
    "max_cut = np.where(expected_value == np.min(expected_value))[0]\n",
    "\n",
    "for i in range(len(max_cut)):\n",
    "    print(' \\n Therefore, the optimal cut is |{}>'.format(binary_str[max_cut[i]]))"
   ]
  },
  {
   "cell_type": "markdown",
   "id": "87beff5f-3d01-4e41-8cc7-89f4f70673c4",
   "metadata": {},
   "source": [
    "Therefore, $x_0 = x_1 = 0$ or $x_0 = 0, x_1 = 1$. Notice that the minimum expected value is -1 for Ising model; if we add the independent term -2, it will be -3, witch is the value that minimized the QUBO."
   ]
  },
  {
   "cell_type": "markdown",
   "id": "775d14b2-c31d-4bed-8b1e-aae8199691ac",
   "metadata": {},
   "source": [
    "However, we can solve these problems directly from QUBO to Ising:"
   ]
  },
  {
   "cell_type": "code",
   "execution_count": 31,
   "id": "28387a0d-e05c-40c7-b9ba-c3d16cf28489",
   "metadata": {},
   "outputs": [
    {
     "name": "stdout",
     "output_type": "stream",
     "text": [
      "Problem name: \n",
      "\n",
      "Minimize\n",
      "  x^2 + 2*x*y\n",
      "\n",
      "Subject to\n",
      "  No constraints\n",
      "\n",
      "  Binary variables (2)\n",
      "    x y\n",
      "\n"
     ]
    }
   ],
   "source": [
    "qubo = QuadraticProgram()\n",
    "qubo.binary_var('x')\n",
    "qubo.binary_var('y')\n",
    "\n",
    "#Defining QUBO\n",
    "qubo.minimize(quadratic={('x', 'x'):1, ('x', 'y'):2})\n",
    "print(qubo.prettyprint())"
   ]
  },
  {
   "cell_type": "code",
   "execution_count": 32,
   "id": "26b11d51-6b3b-4938-9c2f-c52c376cda3c",
   "metadata": {},
   "outputs": [
    {
     "name": "stdout",
     "output_type": "stream",
     "text": [
      "offset: 1.0\n",
      "operator:\n",
      "SparsePauliOp(['IZ', 'ZZ', 'ZI'],\n",
      "              coeffs=[-1. +0.j,  0.5+0.j, -0.5+0.j])\n"
     ]
    }
   ],
   "source": [
    "#QUBO to Ising\n",
    "op, offset = qubo.to_ising()\n",
    "print('offset: {}'.format(offset))\n",
    "print('operator:')\n",
    "print(op)"
   ]
  },
  {
   "cell_type": "markdown",
   "id": "3070843e-328a-44c6-bb3b-28b3779cd30a",
   "metadata": {},
   "source": [
    "But notice qiskit defines the Hamiltonian such that the last bit is the most significant, while the first is the least significant. In this logic, the qubis are $\\vert z_1 z_0 \\rangle$ and the Hamiltonian is $-IZ + 0.5 ZZ - 0.5 ZI$."
   ]
  },
  {
   "cell_type": "code",
   "execution_count": 33,
   "id": "3da83476-3e63-437f-9ab4-4dbf6663e5a6",
   "metadata": {},
   "outputs": [
    {
     "name": "stdout",
     "output_type": "stream",
     "text": [
      "The expected value of state |00> is -1.0\n",
      "The expected value of state |01> is 0.0\n",
      "The expected value of state |10> is -1.0\n",
      "The expected value of state |11> is 2.0\n",
      " \n",
      " Therefore, the optimal solution is |00>\n",
      " \n",
      " Therefore, the optimal solution is |10>\n"
     ]
    }
   ],
   "source": [
    "# Número de qubits\n",
    "num_qubits = 2\n",
    "expected_value = []\n",
    "binary_str = []\n",
    "\n",
    "for i in range(2**num_qubits):\n",
    "    #Decimal to Binary\n",
    "    binary_str.append(bin(i)[2:].zfill(num_qubits))  \n",
    "    state = Statevector.from_int(i, dims = 2**num_qubits)\n",
    "    #Computing the expected value using the formal definition\n",
    "    expected_value.append(state.inner(state.evolve(op)))\n",
    "    print(\"The expected value of state |{}> is\".format(binary_str[i]), (expected_value[i]).real)\n",
    "    \n",
    "#Posições com o menor valor\n",
    "max_cut = np.where(expected_value == np.min(expected_value))[0]\n",
    "\n",
    "for i in range(len(max_cut)):\n",
    "    print(' \\n Therefore, the optimal solution is |{}>'.format(binary_str[max_cut[i]]))"
   ]
  },
  {
   "cell_type": "markdown",
   "id": "40216477-0b76-4126-92b4-a97274e4f462",
   "metadata": {},
   "source": [
    "Therefore, $x_0 = x_1 = 0$ or $x_0 = 0, x_1 = 1$. \n",
    "(Remember the order difined by qiskit)"
   ]
  },
  {
   "attachments": {
    "f126d0d7-a38d-44da-87c1-8785d35b0aa2.png": {
     "image/png": "[encoded data removed]"
    }
   },
   "cell_type": "markdown",
   "id": "52e94280-cdc0-4187-a17a-4045a597b710",
   "metadata": {},
   "source": [
    "![image.png](attachment:f126d0d7-a38d-44da-87c1-8785d35b0aa2.png)"
   ]
  },
  {
   "cell_type": "markdown",
   "id": "06d0341c-7964-4f9f-af33-930887a6c055",
   "metadata": {},
   "source": [
    "The QUBO model is defined as \n",
    "\n",
    "\\begin{equation}\n",
    "    Minimize \\ \\ \\ \\ (x_0 - 2x_1 + 3x_2 -4x_3)^2\n",
    "\\end{equation}\n",
    "\n",
    "And we have\n",
    "\n",
    "\\begin{equation}\n",
    "    Minimize \\ \\ \\ \\ x_0^2 - 4x_0x_1 + 6x_0x_2 - 8x_0x_3 + 4x_1^2 - 12x_1x_2 + 16x_1x_3 + 9x_2^2 - 24x_2x_3 +16x_3^2\n",
    "\\end{equation}\n",
    "\n",
    "Let's solve it using qiskit."
   ]
  },
  {
   "cell_type": "code",
   "execution_count": 34,
   "id": "ae7d92cb-ea90-4f5f-834a-fffb1f6ba7f7",
   "metadata": {},
   "outputs": [
    {
     "data": {
      "text/plain": [
       "<Variable: x_3 (binary)>"
      ]
     },
     "execution_count": 34,
     "metadata": {},
     "output_type": "execute_result"
    }
   ],
   "source": [
    "qubo = QuadraticProgram()\n",
    "qubo.binary_var('x_0')\n",
    "qubo.binary_var('x_1')\n",
    "qubo.binary_var('x_2')\n",
    "qubo.binary_var('x_3')"
   ]
  },
  {
   "cell_type": "code",
   "execution_count": 35,
   "id": "6abf100d-c6f1-4843-b171-f6fc4ba04dee",
   "metadata": {},
   "outputs": [
    {
     "name": "stdout",
     "output_type": "stream",
     "text": [
      "Problem name: \n",
      "\n",
      "Minimize\n",
      "  x_0^2 - 4*x_0*x_1 + 6*x_0*x_2 - 8*x_0*x_3 + 4*x_1^2 - 12*x_1*x_2 + 16*x_1*x_3\n",
      "  + 9*x_2^2 - 24*x_2*x_3 + 16*x_3^2\n",
      "\n",
      "Subject to\n",
      "  No constraints\n",
      "\n",
      "  Binary variables (4)\n",
      "    x_0 x_1 x_2 x_3\n",
      "\n"
     ]
    }
   ],
   "source": [
    "#Defining QUBO\n",
    "qubo.minimize(quadratic={('x_0', 'x_0'):1, ('x_0', 'x_1'):-4, ('x_0', 'x_2'):6, \n",
    "                        ('x_0', 'x_3'):-8, ('x_1', 'x_1'):4, ('x_1', 'x_2'):-12,\n",
    "                        ('x_1', 'x_3'):16, ('x_2', 'x_2'):9, ('x_2', 'x_3'):-24,\n",
    "                        ('x_3', 'x_3'):16})\n",
    "print(qubo.prettyprint())"
   ]
  },
  {
   "cell_type": "code",
   "execution_count": 36,
   "id": "6b6e1a21-517c-47e5-b3ee-2b40e4ad5671",
   "metadata": {},
   "outputs": [
    {
     "name": "stdout",
     "output_type": "stream",
     "text": [
      "offset: 8.5\n",
      "operator:\n",
      "SparsePauliOp(['IIIZ', 'IIZZ', 'IIZI', 'IZIZ', 'IZII', 'IZZI', 'ZIIZ', 'ZIII', 'ZIZI', 'ZZII'],\n",
      "              coeffs=[ 1. +0.j, -1. +0.j, -2. +0.j,  1.5+0.j,  3. +0.j, -3. +0.j, -2. +0.j,\n",
      " -4. +0.j,  4. +0.j, -6. +0.j])\n"
     ]
    }
   ],
   "source": [
    "#QUBO to Ising\n",
    "op, offset = qubo.to_ising()\n",
    "print('offset: {}'.format(offset))\n",
    "print('operator:')\n",
    "print(op)"
   ]
  },
  {
   "cell_type": "code",
   "execution_count": 37,
   "id": "2c51986f-1bf5-4dbb-ad92-a26041078a86",
   "metadata": {},
   "outputs": [
    {
     "name": "stdout",
     "output_type": "stream",
     "text": [
      "The expected value of state 0000 is -8.5\n",
      "The expected value of state 0001 is -7.5\n",
      "The expected value of state 0010 is -4.5\n",
      "The expected value of state 0011 is -7.5\n",
      "The expected value of state 0100 is 0.5\n",
      "The expected value of state 0101 is 7.5\n",
      "The expected value of state 0110 is -7.5\n",
      "The expected value of state 0111 is -4.5\n",
      "The expected value of state 1000 is 7.5\n",
      "The expected value of state 1001 is 0.5\n",
      "The expected value of state 1010 is 27.5\n",
      "The expected value of state 1011 is 16.5\n",
      "The expected value of state 1100 is -7.5\n",
      "The expected value of state 1101 is -8.5\n",
      "The expected value of state 1110 is 0.5\n",
      "The expected value of state 1111 is -4.5\n",
      " \n",
      " Therefore, the solution solution is |0000>\n",
      " \n",
      " Therefore, the solution solution is |1101>\n"
     ]
    }
   ],
   "source": [
    "# Número de qubits\n",
    "num_qubits = 4\n",
    "expected_value = []\n",
    "binary_str = []\n",
    "\n",
    "for i in range(2**num_qubits):\n",
    "    #Decimal to Binary\n",
    "    binary_str.append(bin(i)[2:].zfill(num_qubits))  \n",
    "    state = Statevector.from_int(i, dims = 2**num_qubits)\n",
    "    #Computing the expected value using the formal definition\n",
    "    expected_value.append(state.inner(state.evolve(op)))\n",
    "    print(\"The expected value of state {} is\".format(binary_str[i]), (expected_value[i]).real)\n",
    "    \n",
    "#Posições com o menor valor\n",
    "max_cut = np.where(expected_value == np.min(expected_value))[0]\n",
    "\n",
    "for i in range(len(max_cut)):\n",
    "    print(' \\n Therefore, the solution solution is |{}>'.format(binary_str[max_cut[i]]))"
   ]
  },
  {
   "cell_type": "markdown",
   "id": "64579e35-c7b0-42cd-a62c-36c564b17eb7",
   "metadata": {},
   "source": [
    "Therefore, the optimal solution is $x_0 = x_2 = x_3=1$, $x_1 = 0$. And the trivial solution $x_0 = x_1 =x_2 = x_3=0$."
   ]
  }
 ],
 "metadata": {
  "kernelspec": {
   "display_name": "Python 3 (ipykernel)",
   "language": "python",
   "name": "python3"
  },
  "language_info": {
   "codemirror_mode": {
    "name": "ipython",
    "version": 3
   },
   "file_extension": ".py",
   "mimetype": "text/x-python",
   "name": "python",
   "nbconvert_exporter": "python",
   "pygments_lexer": "ipython3",
   "version": "3.9.7"
  }
 },
 "nbformat": 4,
 "nbformat_minor": 5
}
